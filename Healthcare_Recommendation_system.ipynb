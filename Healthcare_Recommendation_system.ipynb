{
  "nbformat": 4,
  "nbformat_minor": 0,
  "metadata": {
    "colab": {
      "provenance": [],
      "toc_visible": true,
      "authorship_tag": "ABX9TyPjrMjqFGRf7p/gimCbWKV+",
      "include_colab_link": true
    },
    "kernelspec": {
      "name": "python3",
      "display_name": "Python 3"
    },
    "language_info": {
      "name": "python"
    }
  },
  "cells": [
    {
      "cell_type": "markdown",
      "metadata": {
        "id": "view-in-github",
        "colab_type": "text"
      },
      "source": [
        "<a href=\"https://colab.research.google.com/github/Ashwini028/Personal-Recommendation-system--Healthcare/blob/main/Healthcare_Recommendation_system.ipynb\" target=\"_parent\"><img src=\"https://colab.research.google.com/assets/colab-badge.svg\" alt=\"Open In Colab\"/></a>"
      ]
    },
    {
      "cell_type": "markdown",
      "source": [
        "-Import Libraries"
      ],
      "metadata": {
        "id": "AHw7jye7OCi6"
      }
    },
    {
      "cell_type": "code",
      "source": [
        "# import Libraries\n",
        "import pandas as pd\n",
        "import numpy as np\n",
        "import matplotlib.pyplot as plt\n",
        "import seaborn as sns\n",
        "from sklearn.model_selection import train_test_split\n",
        "from sklearn.preprocessing import StandardScaler, LabelEncoder\n",
        "from sklearn.ensemble import RandomForestClassifier\n",
        "from sklearn.metrics import accuracy_score, classification_report, confusion_matrix\n",
        "from sklearn.feature_extraction.text import TfidfVectorizer\n",
        "from sklearn.metrics.pairwise import cosine_similarity\n",
        "import joblib\n",
        "from textblob import TextBlob"
      ],
      "metadata": {
        "id": "P-75FqeUN-hQ"
      },
      "execution_count": null,
      "outputs": []
    },
    {
      "cell_type": "code",
      "source": [
        "#Load Data\n",
        "df = pd.read_csv('/content/healthcare_dataset.csv')\n",
        "print(\"Dataset Shape:\", df.shape)"
      ],
      "metadata": {
        "colab": {
          "base_uri": "https://localhost:8080/"
        },
        "id": "hXZruO3MOnRP",
        "outputId": "ab543695-3330-4e3a-c9a1-82f56aa35f43"
      },
      "execution_count": null,
      "outputs": [
        {
          "output_type": "stream",
          "name": "stdout",
          "text": [
            "Dataset Shape: (55500, 15)\n",
            "            Name  Age  Gender Blood Type Medical Condition Date of Admission  \\\n",
            "0  Bobby JacksOn   30    Male         B-            Cancer        2024-01-31   \n",
            "1   LesLie TErRy   62    Male         A+           Obesity        2019-08-20   \n",
            "2    DaNnY sMitH   76  Female         A-           Obesity        2022-09-22   \n",
            "3   andrEw waTtS   28  Female         O+          Diabetes        2020-11-18   \n",
            "4  adrIENNE bEll   43  Female        AB+            Cancer        2022-09-19   \n",
            "\n",
            "             Doctor                    Hospital Insurance Provider  \\\n",
            "0     Matthew Smith             Sons and Miller         Blue Cross   \n",
            "1   Samantha Davies                     Kim Inc           Medicare   \n",
            "2  Tiffany Mitchell                    Cook PLC              Aetna   \n",
            "3       Kevin Wells  Hernandez Rogers and Vang,           Medicare   \n",
            "4    Kathleen Hanna                 White-White              Aetna   \n",
            "\n",
            "   Billing Amount  Room Number Admission Type Discharge Date   Medication  \\\n",
            "0    18856.281306          328         Urgent     2024-02-02  Paracetamol   \n",
            "1    33643.327287          265      Emergency     2019-08-26    Ibuprofen   \n",
            "2    27955.096079          205      Emergency     2022-10-07      Aspirin   \n",
            "3    37909.782410          450       Elective     2020-12-18    Ibuprofen   \n",
            "4    14238.317814          458         Urgent     2022-10-09   Penicillin   \n",
            "\n",
            "   Test Results  \n",
            "0        Normal  \n",
            "1  Inconclusive  \n",
            "2        Normal  \n",
            "3      Abnormal  \n",
            "4      Abnormal  \n"
          ]
        }
      ]
    },
    {
      "cell_type": "code",
      "source": [
        "#Data Preprocessing\n",
        "df.dropna(inplace=True)\n",
        "df.drop_duplicates(inplace=True)\n"
      ],
      "metadata": {
        "id": "agck4Oa8QN0F"
      },
      "execution_count": null,
      "outputs": []
    },
    {
      "cell_type": "code",
      "source": [
        "#Handle missing values\n",
        "df.fillna(df.mean(numeric_only=True), inplace=True)\n",
        "df.fillna(\"Unknown\", inplace=True)"
      ],
      "metadata": {
        "id": "uNWDtC0iRN5X"
      },
      "execution_count": null,
      "outputs": []
    },
    {
      "cell_type": "code",
      "source": [
        "# Encode categorical variables\n",
        "label_encoders = {}\n",
        "for col in df.select_dtypes(include=['object']).columns:\n",
        "    le = LabelEncoder()\n",
        "    df[col] = le.fit_transform(df[col])\n",
        "    label_encoders[col] = le\n"
      ],
      "metadata": {
        "id": "40_Af4m_R06s"
      },
      "execution_count": null,
      "outputs": []
    },
    {
      "cell_type": "code",
      "source": [
        "# Feature Scaling\n",
        "scaler = StandardScaler()\n",
        "features = ['Age'] # Corrected column name to 'Age' and removed unavailable columns\n",
        "df[features] = scaler.fit_transform(df[features])"
      ],
      "metadata": {
        "id": "Qz2E_Dw8R99d"
      },
      "execution_count": null,
      "outputs": []
    },
    {
      "cell_type": "code",
      "source": [
        "# 4. Disease Prediction Model\n",
        "X = df.drop('Medical Condition', axis=1)  # Use all columns except 'Medical Condition' as features\n",
        "y = df['Medical Condition']  # Use encoded 'Medical Condition' as the target variable\n",
        "\n",
        "X_train, X_test, y_train, y_test = train_test_split(X, y, test_size=0.2, random_state=42)\n",
        "\n",
        "model_rf = RandomForestClassifier(n_estimators=100, random_state=42)\n",
        "model_rf.fit(X_train, y_train)\n",
        "\n",
        "y_pred = model_rf.predict(X_test)\n",
        "print(\"\\nDisease Prediction Accuracy:\", accuracy_score(y_test, y_pred))\n",
        "print(classification_report(y_test, y_pred))"
      ],
      "metadata": {
        "colab": {
          "base_uri": "https://localhost:8080/"
        },
        "id": "lZAVzwg4STQj",
        "outputId": "f3aae341-690a-4176-b081-94e41ef695ed"
      },
      "execution_count": null,
      "outputs": [
        {
          "output_type": "stream",
          "name": "stdout",
          "text": [
            "\n",
            "Disease Prediction Accuracy: 0.29252319446971076\n",
            "              precision    recall  f1-score   support\n",
            "\n",
            "           0       0.28      0.31      0.29      1867\n",
            "           1       0.28      0.29      0.28      1823\n",
            "           2       0.30      0.29      0.29      1830\n",
            "           3       0.31      0.30      0.30      1886\n",
            "           4       0.29      0.29      0.29      1757\n",
            "           5       0.30      0.28      0.29      1831\n",
            "\n",
            "    accuracy                           0.29     10994\n",
            "   macro avg       0.29      0.29      0.29     10994\n",
            "weighted avg       0.29      0.29      0.29     10994\n",
            "\n"
          ]
        }
      ]
    },
    {
      "cell_type": "code",
      "source": [
        "# Save model\n",
        "joblib.dump(model_rf, \"disease_prediction_model.pkl\")\n"
      ],
      "metadata": {
        "colab": {
          "base_uri": "https://localhost:8080/"
        },
        "id": "yNu3ELjWS2Il",
        "outputId": "765852d6-a841-4fe4-dd3a-a8dd4089a881"
      },
      "execution_count": null,
      "outputs": [
        {
          "output_type": "execute_result",
          "data": {
            "text/plain": [
              "['disease_prediction_model.pkl']"
            ]
          },
          "metadata": {},
          "execution_count": 14
        }
      ]
    },
    {
      "cell_type": "code",
      "source": [
        "# 5. Medicine Recommendation (Content-Based)\n",
        "medicine_data = pd.DataFrame({\n",
        "    'medicine_id': [1, 2, 3, 4],\n",
        "    'medicine_name': ['MedA', 'MedB', 'MedC', 'MedD'],\n",
        "    'description': [\n",
        "        'Used for high blood pressure and heart conditions',\n",
        "        'Treats diabetes and controls glucose levels',\n",
        "        'Relieves fever and reduces inflammation',\n",
        "        'Cures bacterial infections and boosts immunity'\n",
        "    ]\n",
        "})\n",
        "# Vectorize medicine descriptions\n",
        "vectorizer = TfidfVectorizer()\n",
        "medicine_vectors = vectorizer.fit_transform(medicine_data['description'])\n",
        "\n",
        "def recommend_medicines(med_name, top_n=3):\n",
        "    idx = medicine_data[medicine_data['medicine_name'] == med_name].index[0]\n",
        "    sim_scores = list(enumerate(cosine_similarity(medicine_vectors[idx], medicine_vectors)[0]))\n",
        "    sim_scores = sorted(sim_scores, key=lambda x: x[1], reverse=True)\n",
        "    top_indices = [i[0] for i in sim_scores[1:top_n+1]]\n",
        "    return medicine_data.iloc[top_indices]['medicine_name'].tolist()\n",
        "\n",
        "print(\"\\nMedicine Recommendations for MedA:\", recommend_medicines(\"MedA\"))"
      ],
      "metadata": {
        "colab": {
          "base_uri": "https://localhost:8080/"
        },
        "id": "gjwRL3uaTKor",
        "outputId": "8ecc0c50-bc18-477e-f62f-e23f76e71a96"
      },
      "execution_count": null,
      "outputs": [
        {
          "output_type": "stream",
          "name": "stdout",
          "text": [
            "\n",
            "Medicine Recommendations for MedA: ['MedC', 'MedB', 'MedD']\n"
          ]
        }
      ]
    },
    {
      "cell_type": "code",
      "source": [
        "# 6. Sentiment Analysis on Reviews\n",
        "reviews = [\n",
        "    \"This medicine worked great for me!\",\n",
        "    \"I had side effects after taking it.\",\n",
        "    \"It was okay, not very effective.\"\n",
        "]\n",
        "\n",
        "for review in reviews:\n",
        "    sentiment = TextBlob(review).sentiment.polarity\n",
        "    print(f\"Review: {review} | Sentiment Score: {sentiment}\")\n"
      ],
      "metadata": {
        "colab": {
          "base_uri": "https://localhost:8080/"
        },
        "id": "ydyjnGJdT5Yt",
        "outputId": "6c59738b-9b51-4f54-960d-ca8292cb766e"
      },
      "execution_count": null,
      "outputs": [
        {
          "output_type": "stream",
          "name": "stdout",
          "text": [
            "Review: This medicine worked great for me! | Sentiment Score: 1.0\n",
            "Review: I had side effects after taking it. | Sentiment Score: 0.0\n",
            "Review: It was okay, not very effective. | Sentiment Score: 0.13461538461538464\n"
          ]
        }
      ]
    },
    {
      "cell_type": "code",
      "source": [
        "# 7. Hybrid Suggestion Placeholder\n",
        "# Example: Use disease prediction → map to top medicines\n",
        "def hybrid_recommendation(patient_data):\n",
        "    # Ensure patient_data has the same features and order as X_train\n",
        "    # Create a DataFrame for the single patient example\n",
        "    patient_df = pd.DataFrame([patient_data], columns=X_train.columns)\n",
        "\n",
        "    # Scale the patient data using a scaler fitted on the training data\n",
        "    patient_scaled = new_scaler.transform(patient_df)\n",
        "\n",
        "    # Convert the scaled numpy array back to a DataFrame with feature names\n",
        "    patient_scaled_df = pd.DataFrame(patient_scaled, columns=X_train.columns)\n",
        "\n",
        "    pred = model_rf.predict(patient_scaled_df)[0]\n",
        "    # map predicted disease to a medicine (example mapping)\n",
        "    disease_to_meds = {\n",
        "        0: [\"MedA\", \"MedC\"],\n",
        "        1: [\"MedB\"],\n",
        "        2: [\"MedD\"]\n",
        "    }\n",
        "    return disease_to_meds.get(pred, [\"No suggestion available\"])\n",
        "\n",
        "# Create a new scaler and fit it on the training data\n",
        "new_scaler = StandardScaler()\n",
        "new_scaler.fit(X_train)\n",
        "\n",
        "# Example patient data (using dummy values for demonstration)\n",
        "# The number of values should match the number of features in X_train\n",
        "# Replace with actual patient data when available\n",
        "example_patient_values = [0] * len(X_train.columns) # Replace 0 with meaningful values\n",
        "example_patient_values[X_train.columns.get_loc('Age')] = 45 # Set age as an example\n",
        "\n",
        "print(\"\\nHybrid Recommendation:\", hybrid_recommendation(example_patient_values))"
      ],
      "metadata": {
        "colab": {
          "base_uri": "https://localhost:8080/"
        },
        "id": "vgIjj8VXUaY9",
        "outputId": "11e705ac-c35f-4fdb-fc7c-105c36f93cf1"
      },
      "execution_count": null,
      "outputs": [
        {
          "output_type": "stream",
          "name": "stdout",
          "text": [
            "\n",
            "Hybrid Recommendation: ['MedD']\n"
          ]
        },
        {
          "output_type": "stream",
          "name": "stderr",
          "text": [
            "/usr/local/lib/python3.11/dist-packages/sklearn/utils/validation.py:2739: UserWarning: X does not have valid feature names, but RandomForestClassifier was fitted with feature names\n",
            "  warnings.warn(\n"
          ]
        }
      ]
    }
  ]
}