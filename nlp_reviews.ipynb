import os, sys
sys.path.append("..")

import pandas as pd
from src.nlp.text_processor import TextProcessor

df = pd.read_csv("../data/healthcare_dataset.csv")
print(df.shape)
df.head()

tp = TextProcessor()
texts = df["Medical Condition"].astype(str).tolist()[:500]
X = tp.fit_transform(texts)

print("TF-IDF shape:", X.shape)
print("Sentiment example:", tp.get_sentiment("Patient is stable and improving"))
